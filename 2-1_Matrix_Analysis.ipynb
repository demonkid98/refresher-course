{
 "cells": [
  {
   "cell_type": "markdown",
   "metadata": {},
   "source": [
    "\n",
    "<table>\n",
    "<tr>\n",
    "<td width=15%><img src=\"./img/UGA.png\"></img></td>\n",
    "<td><center><h1>Refresher Course on Matrix Analysis and Optimization</h1></center></td>\n",
    "<td width=15%><a href=\"http://www.iutzeler.org\" style=\"font-size: 16px; font-weight: bold\">Franck Iutzeler</a> <a href=\"https://ljk.imag.fr/membres/Jerome.Malick/\" style=\"font-size: 16px; font-weight: bold\">Jérôme Malick</a><br/> 2017/2018 </td>\n",
    "</tr>\n",
    "</table>\n"
   ]
  },
  {
   "cell_type": "markdown",
   "metadata": {},
   "source": [
    "<br/><br/><div id=\"top\"></div>\n",
    "\n",
    "<center><a style=\"font-size: 40pt; font-weight: bold\">Chap. 2 - Refresher Course </a></center>\n",
    "\n",
    "<br/>\n",
    "\n",
    "# ``1. Matrix Analysis``\n",
    "\n",
    "---"
   ]
  },
  {
   "cell_type": "markdown",
   "metadata": {},
   "source": [
    "<a href=\"#style\"><b>Package check and Styling</b></a><br/><br/><b>Outline</b><br/><br/>\n",
    "&nbsp;&nbsp;&nbsp; a) <a href=\"#MALinReg\"> Linear Systems Resolution with applications to Regression</a><br/>&nbsp;&nbsp;&nbsp; b) <a href=\"#MASVD\"> Singular Value Decomposition and Image Compression</a><br/>&nbsp;&nbsp;&nbsp; c) <a href=\"#MAPG\"> PageRank and the Power Method</a><br/>"
   ]
  },
  {
   "cell_type": "markdown",
   "metadata": {},
   "source": [
    "## <a id=\"MALinReg\"> a) Linear Systems Resolution with applications to Regression</a>  \n",
    "\n",
    "<p style=\"text-align: right; font-size: 10px;\"><a href=\"#top\">Go to top</a></p>\n",
    "\n",
    "\n",
    "\n",
    "In this example, we use linear algebra to extract information from data; more precisely, we predict final notes of a group of student from their profiles with the [Student Performance dataset](https://archive.ics.uci.edu/ml/datasets/Student+Performance) which includes secondary education students of two Portuguese schools.\n",
    "\n",
    "\n",
    "Profiles include features such as student grades, demographic, social and school related features and were collected by using school reports and questionnaires. There are $m = 395$ students (examples) and we selected $n = 27$ features (see <tt>data/student.txt</tt> for the features description and <tt>datat/student-mat.csv</tt> for the csv dataset.)\n",
    "\n",
    "\n",
    "\n",
    "Our goal is to predict a target feature (the $28$-th) which is the final grade of the student from the other features (the first $27$). We assume that the final grade can be explained by a linear combination of the other features. We are going to learn from this data using linear regression over the $m_{learn} = 300$ students (called the *learning set*). We will check our prediction by comparing the results for the other $m_{test} = 95$ students (the *testing set*)."
   ]
  },
  {
   "cell_type": "code",
   "execution_count": 1,
   "metadata": {
    "collapsed": true
   },
   "outputs": [],
   "source": [
    "import numpy as np\n",
    "\n",
    "# File reading\n",
    "dat_file = np.load('data/student.npz')\n",
    "A_learn = dat_file['A_learn']\n",
    "b_learn = dat_file['b_learn']\n",
    "A_test = dat_file['A_test']\n",
    "b_test = dat_file['b_test']\n",
    "\n",
    "m = 395 # number of read examples (total:395)\n",
    "n = 27 # features\n",
    "m_learn = 300"
   ]
  },
  {
   "cell_type": "markdown",
   "metadata": {},
   "source": [
    "Mathematically, from the $m_{learn} \\times (n+1)$ *learning matrix* (the number of columns is $n+1$ as a column of ones, called *intercept* for statistical reasons). $A_{learn}$ comprising of the features values of each training student in line, and the vector of the values of the target features $b_{learn}$;  we seek a size-$n+1$ *regression vector* that minimizes the squared error between  $A_{learn} x$ and $b_{learn}$. This problem boils down to the following least square problem:\n",
    "$$ \\min_{x\\in\\mathbb{R}^{n+1}}  \\|  A_{learn} x - b_{learn} \\|_2^2 . $$"
   ]
  },
  {
   "cell_type": "markdown",
   "metadata": {},
   "source": [
    "<div class=\"exo\"> <b>Question 1:</b> Observe the rank of the $m_{learn} \\times (n+1)$ matrix $A_{learn}$. Does it have full row rank? full column rank? Conclude about the existence and uniqueness of solutions of the problem.</div>"
   ]
  },
  {
   "cell_type": "code",
   "execution_count": 7,
   "metadata": {},
   "outputs": [
    {
     "name": "stdout",
     "output_type": "stream",
     "text": [
      "Rank of matrix A_learn (300 rows, 28 cols.): 28\n",
      "\n"
     ]
    }
   ],
   "source": [
    "rank_A_learn = np.linalg.matrix_rank(A_learn) #.........................................\n",
    "print('Rank of matrix A_learn ({:d} rows, {:d} cols.): {:d}\\n'.format(m_learn,n+1,rank_A_learn))"
   ]
  },
  {
   "cell_type": "markdown",
   "metadata": {
    "collapsed": true
   },
   "source": [
    "<div class=\"exo\"> <b>Question 2:</b>Compute the solution of the minimization problem using the Singular Value Decomposition. <br/>* **hint:** use the option <tt>full_matrices=False</tt> of Numpy's SVD command to get the compact SVD.*</div>"
   ]
  },
  {
   "cell_type": "code",
   "execution_count": 8,
   "metadata": {
    "collapsed": true
   },
   "outputs": [],
   "source": [
    "np.linalg.lstsq?"
   ]
  },
  {
   "cell_type": "code",
   "execution_count": 24,
   "metadata": {},
   "outputs": [
    {
     "name": "stdout",
     "output_type": "stream",
     "text": [
      "Solution by SVD: \t\t  distance to x_reg = 1.37769e-14 \n"
     ]
    }
   ],
   "source": [
    "x_reg = np.linalg.lstsq(A_learn,b_learn)[0]\n",
    "\n",
    "U, s, Vt = np.linalg.svd(A_learn, full_matrices=False)\n",
    "# print(U.shape, s.shape, Vt.shape)\n",
    "A_pinv_svd  = np.matmul(np.matmul(Vt.T, np.diag(1 / s)), U.T)\n",
    "\n",
    "x_reg_svd = np.matmul(A_pinv_svd, b_learn)\n",
    "print('Solution by SVD: \\t\\t  distance to x_reg = {:n} '.format(np.linalg.norm(x_reg -  x_reg_svd)))"
   ]
  },
  {
   "cell_type": "markdown",
   "metadata": {
    "collapsed": true
   },
   "source": [
    "<div class=\"exo\"> <b>Question 3:</b> In order to test the goodness of our predictor <tt>x_reg</tt>, we use the rest of the data to compare our predictions with the actual observations. The test matrix $A_{test}$ has $m_{test} = 95$ rows (students) and $n+1 = 28$ columns (features+intercept). Construct the predicted grades from <tt>x_reg</tt> and compare with the actual observed grades in $b_{test}$ (set <tt>SHOW_PREDICTION = True</tt> in the code). </div>"
   ]
  },
  {
   "cell_type": "code",
   "execution_count": 27,
   "metadata": {
    "scrolled": true
   },
   "outputs": [
    {
     "name": "stdout",
     "output_type": "stream",
     "text": [
      "\n",
      "\n",
      "  Predicted | True value\n",
      "\t10     11 \n",
      "\t10     10 \n",
      "\t12     14 \n",
      "\t17     18 \n",
      "\t13     13 \n",
      "\t11     12 \n",
      "\t19     18 \n",
      "\t 8      8 \n",
      "\t12     12 \n",
      "\t10     10 \n",
      "\t 8      0 \n",
      "\t11     13 \n",
      "\t11     11 \n",
      "\t10     11 \n",
      "\t12     13 \n",
      "\t11     11 \n",
      "\t 8      0 \n",
      "\t 9      9 \n",
      "\t10     10 \n",
      "\t10     11 \n",
      "\t14     13 \n",
      "\t 9      9 \n",
      "\t10     11 \n",
      "\t14     15 \n",
      "\t14     15 \n",
      "\t10     11 \n",
      "\t15     16 \n",
      "\t10     10 \n",
      "\t 9      9 \n",
      "\t14     14 \n",
      "\t 7      8 \n",
      "\t13     14 \n",
      "\t 0      0 \n",
      "\t 7      0 \n",
      "\t 8      0 \n",
      "\t15     15 \n",
      "\t14     13 \n",
      "\t 7      0 \n",
      "\t15     17 \n",
      "\t10     10 \n",
      "\t11     11 \n",
      "\t 9      0 \n",
      "\t15     15 \n",
      "\t 7      0 \n",
      "\t 9     10 \n",
      "\t13     14 \n",
      "\t15     16 \n",
      "\t 9      9 \n",
      "\t14     15 \n",
      "\t12     13 \n",
      "\t 6      8 \n",
      "\t13     13 \n",
      "\t 5      8 \n",
      "\t 7      8 \n",
      "\t11     11 \n",
      "\t 9      9 \n",
      "\t12     13 \n",
      "\t11     11 \n",
      "\t 9     10 \n",
      "\t16     16 \n",
      "\t13     13 \n",
      "\t11     12 \n",
      "\t11     10 \n",
      "\t13     15 \n",
      "\t11     12 \n",
      "\t 9     10 \n",
      "\t12     13 \n",
      "\t 6      0 \n",
      "\t10     10 \n",
      "\t11     11 \n",
      "\t 5      9 \n",
      "\t11     12 \n",
      "\t10     11 \n",
      "\t 4      5 \n",
      "\t18     19 \n",
      "\t 7     10 \n",
      "\t14     15 \n",
      "\t 8     10 \n",
      "\t14     15 \n",
      "\t10     10 \n",
      "\t14     14 \n",
      "\t 6      7 \n",
      "\t10     10 \n",
      "\t 5      0 \n",
      "\t 5      5 \n",
      "\t 9     10 \n",
      "\t 4      6 \n",
      "\t 4      0 \n",
      "\t 8      8 \n",
      "\t 2      0 \n",
      "\t 9      9 \n",
      "\t15     16 \n",
      "\t 8      7 \n",
      "\t12     10 \n",
      "\t 8      9 \n"
     ]
    }
   ],
   "source": [
    "predict = np.matmul(A_test, x_reg) #.........................................\n",
    "\n",
    "# SHOW_PREDICTION = False\n",
    "SHOW_PREDICTION = True\n",
    "\n",
    "if SHOW_PREDICTION:\n",
    "    print('\\n\\n  Predicted | True value')\n",
    "    for i in range(predict.size):\n",
    "        print('\\t{:2d}     {:2d} '.format(int(predict[i]),int(b_test[i])))"
   ]
  },
  {
   "cell_type": "markdown",
   "metadata": {
    "collapsed": true
   },
   "source": [
    "<div class=\"exo\"> <b>Question 4:</b> Compare the relative values of the coefficients of the predictor <tt>x_reg</tt> (set  <tt>SHOW_PREDICTION = True</tt>  in the code). What can you observe about the relative importance of the features?\n",
    "</div>"
   ]
  },
  {
   "cell_type": "code",
   "execution_count": 29,
   "metadata": {
    "scrolled": true
   },
   "outputs": [
    {
     "name": "stdout",
     "output_type": "stream",
     "text": [
      "0.022 \t-- 1 sex - student's sex (binary: \"F\" - female or \"M\" - male)\n",
      "\n",
      "0.024 \t-- 2 age - student's age (numeric: from 15 to 22)\n",
      "\n",
      "0.016 \t-- 3 address - student's home address type (binary: \"U\" - urban or \"R\" - rural)\n",
      "\n",
      "0.058 \t-- 4 famsize - family size (binary: \"LE3\" - less or equal to 3 or \"GT3\" - greater than 3)\n",
      "\n",
      "0.157 \t-- 5 Pstatus - parent's cohabitation status (binary: \"T\" - living together or \"A\" - apart)\n",
      "\n",
      "0.152 \t-- 6 Medu - mother's education (numeric: 0 - none,  1 - primary education (4th grade), 2 – 5th to 9th grade, 3 – secondary education or 4 – higher education)\n",
      "\n",
      "-0.220 \t-- 7 Fedu - father's education (numeric: 0 - none,  1 - primary education (4th grade), 2 – 5th to 9th grade, 3 – secondary education or 4 – higher education)\n",
      "\n",
      "0.028 \t-- 8 traveltime - home to school travel time (numeric: 1 - <15 min., 2 - 15 to 30 min., 3 - 30 min. to 1 hour, or 4 - >1 hour)\n",
      "\n",
      "-0.143 \t-- 9 studytime - weekly study time (numeric: 1 - <2 hours, 2 - 2 to 5 hours, 3 - 5 to 10 hours, or 4 - >10 hours)\n",
      "\n",
      "-0.143 \t-- 10 failures - number of past class failures (numeric: n if 1<=n<3, else 4)\n",
      "\n",
      "-0.103 \t-- 11 schoolsup - extra educational support (binary: yes or no)\n",
      "\n",
      "-0.095 \t-- 12 famsup - family educational support (binary: yes or no)\n",
      "\n",
      "-0.007 \t-- 13 paid - extra paid classes within the course subject (Math or Portuguese) (binary: yes or no)\n",
      "\n",
      "0.096 \t-- 14 activities - extra-curricular activities (binary: yes or no)\n",
      "\n",
      "0.111 \t-- 15 nursery - attended nursery school (binary: yes or no)\n",
      "\n",
      "-0.220 \t-- 16 higher - wants to take higher education (binary: yes or no)\n",
      "\n",
      "0.127 \t-- 17 internet - Internet access at home (binary: yes or no)\n",
      "\n",
      "0.070 \t-- 18 romantic - with a romantic relationship (binary: yes or no)\n",
      "\n",
      "0.378 \t-- 19 famrel - quality of family relationships (numeric: from 1 - very bad to 5 - excellent)\n",
      "\n",
      "0.059 \t-- 20 freetime - free time after school (numeric: from 1 - very low to 5 - very high)\n",
      "\n",
      "-0.135 \t-- 21 goout - going out with friends (numeric: from 1 - very low to 5 - very high)\n",
      "\n",
      "-0.153 \t-- 22 Dalc - workday alcohol consumption (numeric: from 1 - very low to 5 - very high)\n",
      "\n",
      "0.266 \t-- 23 Walc - weekend alcohol consumption (numeric: from 1 - very low to 5 - very high)\n",
      "\n",
      "0.018 \t-- 24 health - current health status (numeric: from 1 - very bad to 5 - very good)\n",
      "\n",
      "0.183 \t-- 25 absences - number of school absences (numeric: from 0 to 93)\n",
      "\n",
      "0.427 \t-- 26 G1 - first period grade (numeric: from 0 to 20)\n",
      "\n",
      "3.640 \t-- 27 G2 - second period grade (numeric: from 0 to 20)\n",
      "\n",
      "10.570 \t-- Intercept\n"
     ]
    }
   ],
   "source": [
    "SHOW_PREDICTOR  = True\n",
    "\n",
    "if SHOW_PREDICTOR:\n",
    "    filename = 'data/student.txt' \n",
    "    f = open(filename, 'r')\n",
    "    f.readline() # read the first (description) line\n",
    "    for i in range(n):\n",
    "        print(\"{:2.3f} \\t-- {:s}\".format(x_reg[i],f.readline()))\n",
    "    print(\"{:2.3f} \\t-- Intercept\".format(x_reg[n]))\n",
    "    f.close()\n",
    "# G2 -- very important"
   ]
  },
  {
   "cell_type": "markdown",
   "metadata": {},
   "source": [
    "## <a id=\"MASVD\"> b) Singular Value Decomposition and Image Compression</a>  \n",
    "\n",
    "<p style=\"text-align: right; font-size: 10px;\"><a href=\"#top\">Go to top</a></p>\n",
    "\n",
    "\n",
    "The goal of this exercise is to investigate the computational aspects of the SVD; and, more importantly, observing the fact that the greater the magnitude of the singular value, the greater the importance of the associated vectors in the matrix coefficients. Investigating on this latter property will be done through the SVD of the following image  seen as an array of grayscale values.\n",
    "\n",
    "\n",
    "<img src=\"img/flower.jpg\" alt=\"flower\" style=\"width: 30%;\"/>\n"
   ]
  },
  {
   "cell_type": "code",
   "execution_count": 30,
   "metadata": {},
   "outputs": [
    {
     "name": "stderr",
     "output_type": "stream",
     "text": [
      "/user/9/vuongq/miniconda3/lib/python3.6/site-packages/matplotlib/font_manager.py:280: UserWarning: Matplotlib is building the font cache using fc-list. This may take a moment.\n",
      "  'Matplotlib is building the font cache using fc-list. '\n"
     ]
    }
   ],
   "source": [
    "import numpy as np\n",
    "import matplotlib.pyplot as plt\n",
    "import matplotlib.image as mpimg\n",
    "import matplotlib.cm as cm\n",
    "%matplotlib inline\n",
    "\n",
    "#### IMAGE\n",
    "img = mpimg.imread('img/flower.png')\n",
    "img_gray =  0.2989 * img[:,:,0] + 0.5870 * img[:,:,1] + 0.1140 * img[:,:,2] # Apparently these are \"good\" coefficients to convert to grayscale\n",
    "#########"
   ]
  },
  {
   "cell_type": "markdown",
   "metadata": {},
   "source": [
    "Indeed, in matrix decomposition every part is bearer of information and even though eigenvalues provide useful informations on some properties of the matrix, the associated eigenvectors are needed for a full reconstruction. "
   ]
  },
  {
   "cell_type": "code",
   "execution_count": 52,
   "metadata": {
    "collapsed": true
   },
   "outputs": [],
   "source": [
    "# SVD \n",
    "U, s, Vt = np.linalg.svd(img_gray, full_matrices=False)"
   ]
  },
  {
   "cell_type": "markdown",
   "metadata": {},
   "source": [
    "<div class=\"exo\"> <b>Question 1:</b> In this question, we will put <tt>n\\_to\\_zero = 360</tt> of the singular values (this corresponds to $75\\%$ of the singular values) to zero while leaving the others unchanged; and construct new images from the modified singular values and the former matrices $U$ and $V$. In <tt>img_i</tt>, you will put the *smallest* singular values to zero; in <tt>img_ii</tt>, the greatest; and in <tt>img_iii</tt>, random ones.  Observe the difference between these three modifications. What do you notice?\n",
    "</div>"
   ]
  },
  {
   "cell_type": "code",
   "execution_count": 54,
   "metadata": {},
   "outputs": [],
   "source": [
    "# Compression percentage: number of eigenvalues set to zero - To modify\n",
    "Compression = 75.0  # in percents\n",
    "nb_to_zero = int(np.ceil(len(s)*Compression/100))  # Number of singular values to put to zero\n",
    "\n",
    "s_sorted = np.sort(s)"
   ]
  },
  {
   "cell_type": "code",
   "execution_count": 55,
   "metadata": {
    "scrolled": true
   },
   "outputs": [],
   "source": [
    "# print(s_sorted[nb_to_zero])\n",
    "# print(s_sorted[-nb_to_zero])\n"
   ]
  },
  {
   "cell_type": "code",
   "execution_count": 74,
   "metadata": {},
   "outputs": [],
   "source": [
    "# (i) Nulling the smallest singular values\n",
    "\n",
    "s_i = np.copy(s)\n",
    "s_i[s_i < s_sorted[nb_to_zero]] = 0\n",
    "# print(s_i)\n",
    "img_i = np.matmul(np.matmul(U, np.diag(s_i)), Vt)\n",
    "# print(img_i.shape)\n",
    "\n",
    "# (ii) Nulling the greatest singular values\n",
    "\n",
    "s_ii = np.copy(s)\n",
    "s_ii[s_ii >= s_sorted[-nb_to_zero]] = 0\n",
    "# print(s_ii)\n",
    "img_ii = np.matmul(np.matmul(U, np.diag(s_ii)), Vt)\n",
    "\n",
    "# (iii) Nulling random singular values\n",
    "\n",
    "s_iii = np.copy(s)\n",
    "mask = np.random.rand(s.shape[0]) < Compression / 100\n",
    "s_iii[mask] = 0\n",
    "# print(np.count_nonzero(s_iii), s_iii)\n",
    "img_iii = np.matmul(np.matmul(U, np.diag(s_iii)), Vt)"
   ]
  },
  {
   "cell_type": "code",
   "execution_count": 76,
   "metadata": {},
   "outputs": [
    {
     "name": "stdout",
     "output_type": "stream",
     "text": [
      "The image is 480x640\n",
      " - it has 480 singular values between 0.005 and 162.934\n",
      " - 75.0% of the singular values are set to zero (360/480)\n"
     ]
    },
    {
     "data": {
      "image/png": "[encoded data removed]",
      "text/plain": [
       "<matplotlib.figure.Figure at 0x7fb62c5e5d30>"
      ]
     },
     "metadata": {},
     "output_type": "display_data"
    }
   ],
   "source": [
    "###############################################\n",
    "## SHOW THE FIGURES\n",
    "print('The image is {:d}x{:d}\\n - it has {:d} singular values between {:.3f} and {:.3f}'.format( img_gray.shape[0], img_gray.shape[1]  , len(s)  ,  np.min(s) , np.max(s) ))\n",
    "print(' - {:.1f}% of the singular values are set to zero ({:d}/{:d})'.format(Compression ,  int(nb_to_zero) ,  len(s)   ))\n",
    "\n",
    "plt.figure()# new figure\n",
    "\n",
    "plt.subplot(2,2,1)\n",
    "plt.xticks([]),plt.yticks([])\n",
    "plt.title(\"Original\")\n",
    "plt.imshow(img_gray, cmap = cm.Greys_r) \n",
    "\n",
    "plt.subplot(2,2,2)\n",
    "plt.xticks([]),plt.yticks([])\n",
    "plt.title(\"(i) smallest\")\n",
    "plt.imshow(img_i, cmap = cm.Greys_r) \n",
    "\n",
    "plt.subplot(2,2,3)\n",
    "plt.xticks([]),plt.yticks([])\n",
    "plt.title(\"(ii) greatest\")\n",
    "plt.imshow(img_ii, cmap = cm.Greys_r) \n",
    "\n",
    "plt.subplot(2,2,4)\n",
    "plt.xticks([]),plt.yticks([])\n",
    "plt.title(\"(iii) random\")\n",
    "plt.imshow(img_iii, cmap = cm.Greys_r) \n",
    "\n",
    "plt.show() #show the window\n",
    "###############################################\n",
    "\n",
    "# high signature values contain more information!!!"
   ]
  },
  {
   "cell_type": "markdown",
   "metadata": {},
   "source": [
    "<div class=\"exo\"> <b>Question 2:</b> Compute the sum of the singular values for the original image and the three modified images. What can you conclude about the visual information provided by the singular values?\n",
    "</div>"
   ]
  },
  {
   "cell_type": "code",
   "execution_count": 77,
   "metadata": {},
   "outputs": [
    {
     "name": "stdout",
     "output_type": "stream",
     "text": [
      "489.467 466.232 1.61847 120.779\n"
     ]
    }
   ],
   "source": [
    "print(np.sum(s), np.sum(s_i), np.sum(s_ii), np.sum(s_iii))"
   ]
  },
  {
   "cell_type": "markdown",
   "metadata": {},
   "source": [
    "## <a id=\"MAPG\"> c) PageRank and the Power Method</a>  \n",
    "\n",
    "<p style=\"text-align: right; font-size: 10px;\"><a href=\"#top\">Go to top</a></p>\n",
    "\n",
    "\n",
    "\n",
    "\n",
    "In this part, we will compute the PageRank ordering of the following graph.\n",
    "\n",
    "\n",
    "<img src=\"img/graph.png\" alt=\"graph\" style=\"width: 50%;\"/>\n",
    "\n",
    "\n",
    "In PageRank, the score $x_i$ of page $i$ is equal to the sum over the pages $j$ pointing toward $i$ of their scores $x_j$  divided by their number of outgoing links $n_j$. This leads to a ranking matrix $R$ defined from the scoring method as\n",
    "$$ x = Rx.$$"
   ]
  },
  {
   "cell_type": "code",
   "execution_count": 87,
   "metadata": {
    "collapsed": true
   },
   "outputs": [],
   "source": [
    "import numpy as np\n",
    "import matplotlib.pyplot as plt\n",
    "import math\n",
    "\n",
    "#### Graph matrix\n",
    "A = np.array([[0,1,1,0,1],[0,0,0,1,1],[1,0,0,1,0],[0,0,1,0,1],[0,1,0,0,0]])\n",
    "####"
   ]
  },
  {
   "cell_type": "markdown",
   "metadata": {},
   "source": [
    "<div class=\"exo\"> <b>Question 1:</b> Explain how the ranking matrix $R$ is generated from adjacence matrix $A$ and that that the sums of its columns are equal to $1$. \n",
    "</div>"
   ]
  },
  {
   "cell_type": "code",
   "execution_count": 88,
   "metadata": {},
   "outputs": [
    {
     "data": {
      "text/plain": [
       "array([[ 0.        ,  0.5       ,  0.5       ,  0.        ,  0.33333333],\n",
       "       [ 0.        ,  0.        ,  0.        ,  0.5       ,  0.33333333],\n",
       "       [ 1.        ,  0.        ,  0.        ,  0.5       ,  0.        ],\n",
       "       [ 0.        ,  0.        ,  0.5       ,  0.        ,  0.33333333],\n",
       "       [ 0.        ,  0.5       ,  0.        ,  0.        ,  0.        ]])"
      ]
     },
     "execution_count": 88,
     "metadata": {},
     "output_type": "execute_result"
    }
   ],
   "source": [
    "#  column stochatic normalization \n",
    "R = np.dot( A  , np.diag(1.0/np.sum(A,0)) ) \n",
    "R"
   ]
  },
  {
   "cell_type": "markdown",
   "metadata": {},
   "source": [
    "<div class=\"exo\"> <b>Question 2:</b> Check numerically that $\\|R\\| = 1$ for some matrix norm and that the spectral radius of $R$ is equal to $1$. \n",
    "</div>"
   ]
  },
  {
   "cell_type": "code",
   "execution_count": 101,
   "metadata": {},
   "outputs": [
    {
     "name": "stdout",
     "output_type": "stream",
     "text": [
      "1.0 1.14867367118 1.5\n",
      "[ -9.08248290e-01 +0.00000000e+00j   1.00000000e+00 +0.00000000e+00j\n",
      "  -9.17517095e-02 +0.00000000e+00j   6.30743774e-17 +9.73348989e-09j\n",
      "   6.30743774e-17 -9.73348989e-09j] 1.0\n",
      "[[  4.93803347e-01 +0.00000000e+00j  -5.14674929e-01 +0.00000000e+00j\n",
      "   -2.68230737e-01 +0.00000000e+00j  -2.35702260e-01 +4.58841114e-09j\n",
      "   -2.35702260e-01 -4.58841114e-09j]\n",
      " [ -2.46901673e-01 +0.00000000e+00j  -2.37542275e-01 +0.00000000e+00j\n",
      "    1.34115369e-01 +0.00000000e+00j   5.96659295e-16 -1.37652334e-08j\n",
      "    5.96659295e-16 +1.37652334e-08j]\n",
      " [ -7.40705020e-01 +0.00000000e+00j  -7.12626824e-01 +0.00000000e+00j\n",
      "    4.02346106e-01 +0.00000000e+00j   4.71404521e-01 +9.17682228e-09j\n",
      "    4.71404521e-01 -9.17682228e-09j]\n",
      " [  3.57881443e-01 +0.00000000e+00j  -3.95903791e-01 +0.00000000e+00j\n",
      "    4.62629588e-01 +0.00000000e+00j   4.71404521e-01 +2.18358725e-25j\n",
      "    4.71404521e-01 -2.18358725e-25j]\n",
      " [  1.35921904e-01 +0.00000000e+00j  -1.18771137e-01 +0.00000000e+00j\n",
      "   -7.30860325e-01 +0.00000000e+00j  -7.07106781e-01 +0.00000000e+00j\n",
      "   -7.07106781e-01 -0.00000000e+00j]]\n",
      "Spectral radius: 1.000000\n"
     ]
    }
   ],
   "source": [
    "# np.linalg.norm?\n",
    "norm1 = np.linalg.norm(R, ord=1)\n",
    "norm2 = np.linalg.norm(R, ord=2)\n",
    "normf = np.linalg.norm(R, ord=math.inf)\n",
    "print(norm1, norm2, normf)\n",
    "\n",
    "eigvals, eigvecs = np.linalg.eig(R)\n",
    "print(eigvals, max(abs(eigvals)))\n",
    "print(eigvecs)\n",
    "\n",
    "sp_rad = max(abs(eigvals))\n",
    "print(\"Spectral radius: {:f}\".format( sp_rad ) )"
   ]
  },
  {
   "cell_type": "markdown",
   "metadata": {},
   "source": [
    "<div class=\"exo\"> <b>Question 3:</b> Iterate the matrix $R$ a large number of times and check if the matrix is primitive. What do you notice on the eigenvalues and eigenvectors? How is defined the rank 1 matrix that you obtain? This manner of computing eigenvectors/values is called the *power method*.\n",
    "</div>"
   ]
  },
  {
   "cell_type": "code",
   "execution_count": 111,
   "metadata": {},
   "outputs": [
    {
     "name": "stdout",
     "output_type": "stream",
     "text": [
      "R^200 = [[ 0.26  0.26  0.26  0.26  0.26]\n",
      " [ 0.12  0.12  0.12  0.12  0.12]\n",
      " [ 0.36  0.36  0.36  0.36  0.36]\n",
      " [ 0.2   0.2   0.2   0.2   0.2 ]\n",
      " [ 0.06  0.06  0.06  0.06  0.06]]\n",
      "[ 0.51467493  0.23754227  0.71262682  0.39590379  0.11877114]\n",
      "eigenvalues: 0.9999999995954294\n"
     ]
    }
   ],
   "source": [
    "k = 200\n",
    "# R_pow = 0 #.........................................\n",
    "# eig_val_pow,eig_vec_pow = 0,0 #.........................................\n",
    "\n",
    "R_pow = np.copy(R)\n",
    "eig_vec_pow = np.random.rand(R.shape[0])\n",
    "for i in range(k):\n",
    "    R_pow = np.matmul(R_pow, R)\n",
    "    eig_vec_pow = np.matmul(R, eig_vec_pow)\n",
    "    eig_vec_pow = eig_vec_pow / np.linalg.norm(eig_vec_pow)\n",
    "\n",
    "eig_val_pow = np.matmul(np.matmul(eig_vec_pow, R), eig_vec_pow) / np.dot(eig_vec_pow, eig_vec_pow)\n",
    "\n",
    "print(\"R^{0} = {1}\".format(k,R_pow))\n",
    "print(eig_vec_pow)\n",
    "print(\"eigenvalues: {0}\".format(eig_val_pow))"
   ]
  },
  {
   "cell_type": "markdown",
   "metadata": {},
   "source": [
    "<div class=\"exo\"> <b>Question 4:</b> Recover the *Perron* eigenvector of matrix $R$. The entries of this vector are the PageRank scores of the nodes/pages of the graph. Give the PageRank ordering of the pages of the graph.\n",
    "</div>"
   ]
  },
  {
   "cell_type": "code",
   "execution_count": null,
   "metadata": {
    "collapsed": true
   },
   "outputs": [],
   "source": [
    "v = 0 #......................................... \n",
    "#print(\"Perron vector: {0}\".format(v))"
   ]
  },
  {
   "cell_type": "markdown",
   "metadata": {},
   "source": [
    "<div class=\"exo\"> <b>Question 5: (to go further)</b> In this exercise, the graph we took led to a *primitive* matrix as seen above; this is necessary for the power method to work as the eigenvalue $1$ has to be the only one of modulus $1$. This is actually the case when the graph is strongly connected, that is when you can go from any node to any other node by following the edges, with *enough* loops. When it is not the case, our problem becomes ill posed. To overcome this problem, the ranking matrix $R$  is replaced by \n",
    "$$ M = (1-\\alpha) R + \\alpha J, ~~~~~~~~ \\alpha\\in]0,1[ $$\n",
    "where is $J$ is the $5\\times 5$ matrix whose entries are all $1/5$. The value of $\\alpha$ originally used by Google is $0.15$.\n",
    "</div>"
   ]
  },
  {
   "cell_type": "markdown",
   "metadata": {},
   "source": [
    "*  \n",
    "  *  \n",
    "     *  Show that $M$ is column-stochastic provided that $R$ is.\n",
    "     *  Show that the problem is now well-posed.\n",
    "     *  Compute the ranking for the original graph but where the link from $2$ to $5$ is suppressed."
   ]
  },
  {
   "cell_type": "code",
   "execution_count": null,
   "metadata": {
    "collapsed": true
   },
   "outputs": [],
   "source": [
    "#### New Graph matrix\n",
    "A_2 = np.array([[0,1,1,0,1],[0,0,0,1,1],[1,0,0,1,0],[0,0,1,0,1],[0,0,0,0,0]])\n",
    "####"
   ]
  },
  {
   "cell_type": "code",
   "execution_count": null,
   "metadata": {
    "collapsed": true
   },
   "outputs": [],
   "source": []
  },
  {
   "cell_type": "markdown",
   "metadata": {},
   "source": [
    "---\n",
    "<div id=\"style\"></div>\n",
    "### Package Check and Styling\n",
    "\n",
    "\n",
    "<p style=\"text-align: right; font-size: 10px;\"><a href=\"#top\">Go to top</a></p>\n"
   ]
  },
  {
   "cell_type": "code",
   "execution_count": null,
   "metadata": {
    "collapsed": true
   },
   "outputs": [],
   "source": [
    "import lib.notebook_setting as nbs\n",
    "\n",
    "packageList = ['IPython', 'numpy', 'scipy', 'matplotlib', 'cvxopt']\n",
    "nbs.packageCheck(packageList)\n",
    "\n",
    "nbs.cssStyling()"
   ]
  }
 ],
 "metadata": {
  "kernelspec": {
   "display_name": "Python 3",
   "language": "python",
   "name": "python3"
  },
  "language_info": {
   "codemirror_mode": {
    "name": "ipython",
    "version": 3
   },
   "file_extension": ".py",
   "mimetype": "text/x-python",
   "name": "python",
   "nbconvert_exporter": "python",
   "pygments_lexer": "ipython3",
   "version": "3.6.1"
  }
 },
 "nbformat": 4,
 "nbformat_minor": 1
}
